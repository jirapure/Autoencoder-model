{
 "cells": [
  {
   "cell_type": "code",
   "execution_count": 1,
   "id": "06aa423e",
   "metadata": {},
   "outputs": [],
   "source": [
    "import numpy as np\n",
    "import matplotlib.pyplot as plt\n",
    "from tensorflow.keras.layers import Conv2D,Dense,Flatten,MaxPooling2D\n",
    "from tensorflow.keras.datasets import mnist\n",
    "from tensorflow.keras.models import Model"
   ]
  },
  {
   "cell_type": "code",
   "execution_count": 12,
   "id": "686ebeb8",
   "metadata": {},
   "outputs": [],
   "source": [
    "(xtrain,_),(xtest,_)=mnist.load_data()"
   ]
  },
  {
   "cell_type": "code",
   "execution_count": 14,
   "id": "157d52b8",
   "metadata": {},
   "outputs": [
    {
     "data": {
      "text/plain": [
       "(60000, 28, 28)"
      ]
     },
     "execution_count": 14,
     "metadata": {},
     "output_type": "execute_result"
    }
   ],
   "source": [
    "xtrain.shape"
   ]
  },
  {
   "cell_type": "code",
   "execution_count": 15,
   "id": "8f320b89",
   "metadata": {},
   "outputs": [
    {
     "data": {
      "text/plain": [
       "(10000, 28, 28)"
      ]
     },
     "execution_count": 15,
     "metadata": {},
     "output_type": "execute_result"
    }
   ],
   "source": [
    "xtest.shape"
   ]
  },
  {
   "cell_type": "code",
   "execution_count": 16,
   "id": "bd626bd2",
   "metadata": {},
   "outputs": [
    {
     "data": {
      "text/plain": [
       "3"
      ]
     },
     "execution_count": 16,
     "metadata": {},
     "output_type": "execute_result"
    }
   ],
   "source": [
    "xtrain.ndim"
   ]
  },
  {
   "cell_type": "code",
   "execution_count": 17,
   "id": "074b6767",
   "metadata": {},
   "outputs": [],
   "source": [
    "xtest=xtest.reshape(10000,784)"
   ]
  },
  {
   "cell_type": "code",
   "execution_count": 18,
   "id": "5c227bfa",
   "metadata": {},
   "outputs": [
    {
     "data": {
      "text/plain": [
       "2"
      ]
     },
     "execution_count": 18,
     "metadata": {},
     "output_type": "execute_result"
    }
   ],
   "source": [
    "xtest.ndim"
   ]
  },
  {
   "cell_type": "code",
   "execution_count": 19,
   "id": "3f98700e",
   "metadata": {},
   "outputs": [],
   "source": [
    "xtrain=xtrain.reshape(60000,784)"
   ]
  },
  {
   "cell_type": "code",
   "execution_count": 20,
   "id": "78397187",
   "metadata": {},
   "outputs": [
    {
     "data": {
      "text/plain": [
       "2"
      ]
     },
     "execution_count": 20,
     "metadata": {},
     "output_type": "execute_result"
    }
   ],
   "source": [
    "xtrain.ndim"
   ]
  },
  {
   "cell_type": "code",
   "execution_count": 21,
   "id": "b002bde9",
   "metadata": {},
   "outputs": [],
   "source": [
    "xtrain=xtrain.astype('float')/255\n",
    "xtest=xtest.astype('float')/255"
   ]
  },
  {
   "cell_type": "code",
   "execution_count": 22,
   "id": "5a9f5591",
   "metadata": {},
   "outputs": [
    {
     "data": {
      "text/plain": [
       "array([[0., 0., 0., ..., 0., 0., 0.],\n",
       "       [0., 0., 0., ..., 0., 0., 0.],\n",
       "       [0., 0., 0., ..., 0., 0., 0.],\n",
       "       ...,\n",
       "       [0., 0., 0., ..., 0., 0., 0.],\n",
       "       [0., 0., 0., ..., 0., 0., 0.],\n",
       "       [0., 0., 0., ..., 0., 0., 0.]])"
      ]
     },
     "execution_count": 22,
     "metadata": {},
     "output_type": "execute_result"
    }
   ],
   "source": [
    "xtest"
   ]
  },
  {
   "cell_type": "code",
   "execution_count": 23,
   "id": "57ff48bd",
   "metadata": {},
   "outputs": [
    {
     "data": {
      "text/plain": [
       "array([[0., 0., 0., ..., 0., 0., 0.],\n",
       "       [0., 0., 0., ..., 0., 0., 0.],\n",
       "       [0., 0., 0., ..., 0., 0., 0.],\n",
       "       ...,\n",
       "       [0., 0., 0., ..., 0., 0., 0.],\n",
       "       [0., 0., 0., ..., 0., 0., 0.],\n",
       "       [0., 0., 0., ..., 0., 0., 0.]])"
      ]
     },
     "execution_count": 23,
     "metadata": {},
     "output_type": "execute_result"
    }
   ],
   "source": [
    "xtest"
   ]
  },
  {
   "cell_type": "code",
   "execution_count": 24,
   "id": "a4c6c601",
   "metadata": {},
   "outputs": [
    {
     "data": {
      "text/plain": [
       "array([[0., 0., 0., ..., 0., 0., 0.],\n",
       "       [0., 0., 0., ..., 0., 0., 0.],\n",
       "       [0., 0., 0., ..., 0., 0., 0.],\n",
       "       ...,\n",
       "       [0., 0., 0., ..., 0., 0., 0.],\n",
       "       [0., 0., 0., ..., 0., 0., 0.],\n",
       "       [0., 0., 0., ..., 0., 0., 0.]])"
      ]
     },
     "execution_count": 24,
     "metadata": {},
     "output_type": "execute_result"
    }
   ],
   "source": [
    "xtrain"
   ]
  },
  {
   "cell_type": "code",
   "execution_count": 26,
   "id": "4e863737",
   "metadata": {},
   "outputs": [],
   "source": [
    "from tensorflow.keras.layers import Input"
   ]
  },
  {
   "cell_type": "code",
   "execution_count": 28,
   "id": "fdd1a159",
   "metadata": {},
   "outputs": [],
   "source": [
    "x=Input(shape=(784,))\n",
    "h=Dense(60,activation='relu')(x)\n",
    "r=Dense(784,activation='sigmoid')(h)\n",
    "\n",
    "ad=Model(inputs=x,outputs=r)"
   ]
  },
  {
   "cell_type": "code",
   "execution_count": 30,
   "id": "5ce74479",
   "metadata": {},
   "outputs": [
    {
     "name": "stdout",
     "output_type": "stream",
     "text": [
      "Model: \"model_1\"\n",
      "_________________________________________________________________\n",
      " Layer (type)                Output Shape              Param #   \n",
      "=================================================================\n",
      " input_2 (InputLayer)        [(None, 784)]             0         \n",
      "                                                                 \n",
      " dense_2 (Dense)             (None, 60)                47100     \n",
      "                                                                 \n",
      " dense_3 (Dense)             (None, 784)               47824     \n",
      "                                                                 \n",
      "=================================================================\n",
      "Total params: 94,924\n",
      "Trainable params: 94,924\n",
      "Non-trainable params: 0\n",
      "_________________________________________________________________\n"
     ]
    }
   ],
   "source": [
    "ad.summary()"
   ]
  },
  {
   "cell_type": "code",
   "execution_count": 31,
   "id": "9e90d680",
   "metadata": {},
   "outputs": [],
   "source": [
    "ad.compile(optimizer='adam',loss='mse')\n"
   ]
  },
  {
   "cell_type": "code",
   "execution_count": 32,
   "id": "24b061cd",
   "metadata": {},
   "outputs": [
    {
     "name": "stdout",
     "output_type": "stream",
     "text": [
      "Epoch 1/20\n",
      "469/469 [==============================] - 4s 7ms/step - loss: 0.0460 - val_loss: 0.0232\n",
      "Epoch 2/20\n",
      "469/469 [==============================] - 3s 6ms/step - loss: 0.0180 - val_loss: 0.0134\n",
      "Epoch 3/20\n",
      "469/469 [==============================] - 3s 6ms/step - loss: 0.0114 - val_loss: 0.0091\n",
      "Epoch 4/20\n",
      "469/469 [==============================] - 3s 6ms/step - loss: 0.0081 - val_loss: 0.0069\n",
      "Epoch 5/20\n",
      "469/469 [==============================] - 3s 6ms/step - loss: 0.0066 - val_loss: 0.0059\n",
      "Epoch 6/20\n",
      "469/469 [==============================] - 3s 6ms/step - loss: 0.0057 - val_loss: 0.0053\n",
      "Epoch 7/20\n",
      "469/469 [==============================] - 3s 6ms/step - loss: 0.0053 - val_loss: 0.0049\n",
      "Epoch 8/20\n",
      "469/469 [==============================] - 3s 6ms/step - loss: 0.0050 - val_loss: 0.0047\n",
      "Epoch 9/20\n",
      "469/469 [==============================] - 3s 7ms/step - loss: 0.0048 - val_loss: 0.0046\n",
      "Epoch 10/20\n",
      "469/469 [==============================] - 3s 7ms/step - loss: 0.0047 - val_loss: 0.0045\n",
      "Epoch 11/20\n",
      "469/469 [==============================] - 3s 6ms/step - loss: 0.0046 - val_loss: 0.0045\n",
      "Epoch 12/20\n",
      "469/469 [==============================] - 3s 6ms/step - loss: 0.0046 - val_loss: 0.0044\n",
      "Epoch 13/20\n",
      "469/469 [==============================] - 3s 6ms/step - loss: 0.0045 - val_loss: 0.0044\n",
      "Epoch 14/20\n",
      "469/469 [==============================] - 3s 7ms/step - loss: 0.0045 - val_loss: 0.0043\n",
      "Epoch 15/20\n",
      "469/469 [==============================] - 3s 6ms/step - loss: 0.0045 - val_loss: 0.0043\n",
      "Epoch 16/20\n",
      "469/469 [==============================] - 3s 6ms/step - loss: 0.0044 - val_loss: 0.0043\n",
      "Epoch 17/20\n",
      "469/469 [==============================] - 3s 6ms/step - loss: 0.0044 - val_loss: 0.0043\n",
      "Epoch 18/20\n",
      "469/469 [==============================] - 3s 6ms/step - loss: 0.0044 - val_loss: 0.0042\n",
      "Epoch 19/20\n",
      "469/469 [==============================] - 3s 6ms/step - loss: 0.0043 - val_loss: 0.0042\n",
      "Epoch 20/20\n",
      "469/469 [==============================] - 3s 6ms/step - loss: 0.0043 - val_loss: 0.0042\n"
     ]
    }
   ],
   "source": [
    "history=ad.fit(xtrain,xtrain,\n",
    "              epochs=20,\n",
    "              batch_size=128,\n",
    "              validation_data=(xtest,xtest))"
   ]
  },
  {
   "cell_type": "code",
   "execution_count": 33,
   "id": "43a4ba65",
   "metadata": {},
   "outputs": [
    {
     "name": "stdout",
     "output_type": "stream",
     "text": [
      "313/313 [==============================] - 1s 2ms/step\n"
     ]
    }
   ],
   "source": [
    "decode=ad.predict(xtest)"
   ]
  },
  {
   "cell_type": "code",
   "execution_count": 34,
   "id": "e087b2c3",
   "metadata": {},
   "outputs": [
    {
     "data": {
      "text/plain": [
       "array([[3.1688899e-07, 5.5872574e-06, 3.4075426e-06, ..., 6.1042449e-08,\n",
       "        5.1987181e-06, 1.2594176e-06],\n",
       "       [2.4472849e-08, 2.2645388e-08, 1.7293538e-09, ..., 3.2815866e-09,\n",
       "        1.4939501e-09, 4.5538401e-10],\n",
       "       [9.5267729e-05, 1.6649760e-04, 1.3701140e-04, ..., 1.2560359e-04,\n",
       "        2.7985458e-04, 2.0777986e-04],\n",
       "       ...,\n",
       "       [1.9136570e-10, 3.0723637e-09, 2.1468733e-09, ..., 7.8249546e-11,\n",
       "        8.8725960e-09, 2.6186592e-10],\n",
       "       [4.6867794e-09, 1.9783519e-08, 3.8658503e-09, ..., 5.1425403e-10,\n",
       "        8.9333367e-09, 3.6019787e-10],\n",
       "       [3.6543667e-12, 4.6413672e-12, 1.7446317e-11, ..., 2.7835551e-12,\n",
       "        2.2443586e-12, 3.5688627e-12]], dtype=float32)"
      ]
     },
     "execution_count": 34,
     "metadata": {},
     "output_type": "execute_result"
    }
   ],
   "source": [
    "decode"
   ]
  },
  {
   "cell_type": "code",
   "execution_count": 35,
   "id": "0bbbad02",
   "metadata": {},
   "outputs": [
    {
     "data": {
      "image/png": "[encoded data removed]",
      "text/plain": [
       "<Figure size 2000x600 with 20 Axes>"
      ]
     },
     "metadata": {},
     "output_type": "display_data"
    }
   ],
   "source": [
    "n = 10\n",
    "plt.figure(figsize=(20, 6))\n",
    "for i in range(n):\n",
    "    # display original\n",
    "    ax = plt.subplot(3, n, i+1)\n",
    "    plt.imshow(xtest[i].reshape(28, 28))\n",
    "    plt.gray()\n",
    "    ax.get_xaxis().set_visible(False)\n",
    "    ax.get_yaxis().set_visible(False)\n",
    "\n",
    "    \n",
    "    # display reconstruction\n",
    "    ax = plt.subplot(3, n, i+n+1)\n",
    "    plt.imshow(decode[i].reshape(28, 28))\n",
    "    plt.gray()\n",
    "    ax.get_xaxis().set_visible(False)\n",
    "    ax.get_yaxis().set_visible(False)\n",
    "    \n",
    "plt.show()"
   ]
  },
  {
   "cell_type": "code",
   "execution_count": 36,
   "id": "e4ddb9cb",
   "metadata": {},
   "outputs": [
    {
     "name": "stdout",
     "output_type": "stream",
     "text": [
      "1875/1875 [==============================] - 5s 2ms/step - loss: 0.0043\n"
     ]
    },
    {
     "data": {
      "text/plain": [
       "0.004287807736545801"
      ]
     },
     "execution_count": 36,
     "metadata": {},
     "output_type": "execute_result"
    }
   ],
   "source": [
    "ad.evaluate(xtrain,xtrain)"
   ]
  },
  {
   "cell_type": "code",
   "execution_count": 37,
   "id": "a4e71715",
   "metadata": {},
   "outputs": [
    {
     "name": "stdout",
     "output_type": "stream",
     "text": [
      "313/313 [==============================] - 1s 2ms/step - loss: 0.0042\n"
     ]
    },
    {
     "data": {
      "text/plain": [
       "0.0042136916890740395"
      ]
     },
     "execution_count": 37,
     "metadata": {},
     "output_type": "execute_result"
    }
   ],
   "source": [
    "ad.evaluate(xtest,xtest)"
   ]
  },
  {
   "cell_type": "code",
   "execution_count": 39,
   "id": "ac92b643",
   "metadata": {},
   "outputs": [
    {
     "name": "stdout",
     "output_type": "stream",
     "text": [
      "313/313 [==============================] - 1s 2ms/step\n"
     ]
    }
   ],
   "source": [
    "encoder=Model(x,h)\n",
    "encoded_img=encoder.predict(xtest)"
   ]
  },
  {
   "cell_type": "markdown",
   "id": "4700024a",
   "metadata": {},
   "source": [
    "# Multilayer encoder"
   ]
  },
  {
   "cell_type": "code",
   "execution_count": null,
   "id": "4d48617d",
   "metadata": {},
   "outputs": [],
   "source": []
  }
 ],
 "metadata": {
  "kernelspec": {
   "display_name": "Python 3 (ipykernel)",
   "language": "python",
   "name": "python3"
  },
  "language_info": {
   "codemirror_mode": {
    "name": "ipython",
    "version": 3
   },
   "file_extension": ".py",
   "mimetype": "text/x-python",
   "name": "python",
   "nbconvert_exporter": "python",
   "pygments_lexer": "ipython3",
   "version": "3.11.3"
  }
 },
 "nbformat": 4,
 "nbformat_minor": 5
}
